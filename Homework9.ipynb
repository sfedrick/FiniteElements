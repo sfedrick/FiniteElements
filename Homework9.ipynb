{
 "cells": [
  {
   "cell_type": "code",
   "execution_count": 3,
   "metadata": {},
   "outputs": [],
   "source": [
    "import numpy as np\n",
    "import sympy as sym\n",
    "import numpy.linalg as LA\n",
    "from sympy import *\n",
    "from sympy import oo, gamma\n",
    "from IPython.display import display\n",
    "from scipy import special\n",
    "from matplotlib import pyplot as plt\n",
    "import matplotlib\n",
    "init_printing(use_latex='mathjax')\n",
    "x, y, z, t= symbols('x y z t')\n",
    "r,theta, phi = symbols('r  theta  phi')\n",
    "f, g, h = symbols('f g h', cls=Function)"
   ]
  },
  {
   "cell_type": "code",
   "execution_count": 34,
   "metadata": {},
   "outputs": [],
   "source": [
    "row1=[-3,1,8,0]\n",
    "row2=[2,1,-1,0]\n",
    "row3=[4,-5,2,6]\n",
    "row4=[11,-3,1,7]\n",
    "A=np.array([row1,row2,row3,row4])\n",
    "u=np.array([1,0,0,0])\n",
    "v=np.array([0,0,0,1])\n",
    "eigvals,eigvec=LA.eig(A)\n",
    "Ak1=LA.matrix_power(A, 8) \n",
    "Ak=LA.matrix_power(A, 7) \n",
    "largeeigval=(Ak1@u@v)/(Ak@u@v)\n",
    "largeeigvec=(Ak@u)\n",
    "largeeigvec=largeeigvec/np.linalg.norm(largeeigvec)"
   ]
  },
  {
   "cell_type": "code",
   "execution_count": 66,
   "metadata": {},
   "outputs": [
    {
     "name": "stdout",
     "output_type": "stream",
     "text": [
      "12.114586801762341\n",
      "[0.30331567 0.00287733 0.5715912  0.76241382]\n",
      "[12.10374809 -2.81465955 -2.81465955  0.52557101]\n",
      "[[ 0.30282436  0.57462183  0.57462183  0.23911626]\n",
      " [ 0.00309014 -0.26383179 -0.26383179 -0.62201671]\n",
      " [ 0.57133659  0.09205315  0.09205315  0.18312976]\n",
      " [ 0.76279903 -0.73404366 -0.73404366 -0.72276007]]\n"
     ]
    }
   ],
   "source": [
    "print(largeeigval)\n",
    "print(largeeigvec)\n",
    "print(np.real(eigvals))\n",
    "print(np.real(eigvec))"
   ]
  },
  {
   "cell_type": "code",
   "execution_count": 87,
   "metadata": {},
   "outputs": [
    {
     "name": "stdout",
     "output_type": "stream",
     "text": [
      "1.9026924778783432\n",
      "[-0.23911626  0.62201671 -0.18312976  0.72276007]\n"
     ]
    }
   ],
   "source": [
    "row1=[-3,1,8,0]\n",
    "row2=[2,1,-1,0]\n",
    "row3=[4,-5,2,6]\n",
    "row4=[11,-3,1,7]\n",
    "A=np.array([row1,row2,row3,row4])\n",
    "A=np.linalg.inv(A)\n",
    "u=np.array([1,0,0,0])\n",
    "v=np.array([1,0,0,0])\n",
    "Ak1=LA.matrix_power(A, 100) \n",
    "Ak=LA.matrix_power(A, 99) \n",
    "smalleigval=(Ak1@u@v)/(Ak@u@v)\n",
    "smalleigvec=(Ak@u)\n",
    "smalleigvec=smalleigvec/np.linalg.norm(smalleigvec)\n",
    "print(smalleigval)\n",
    "print(smalleigvec)"
   ]
  },
  {
   "cell_type": "code",
   "execution_count": null,
   "metadata": {},
   "outputs": [],
   "source": []
  }
 ],
 "metadata": {
  "kernelspec": {
   "display_name": "Python 3",
   "language": "python",
   "name": "python3"
  },
  "language_info": {
   "codemirror_mode": {
    "name": "ipython",
    "version": 3
   },
   "file_extension": ".py",
   "mimetype": "text/x-python",
   "name": "python",
   "nbconvert_exporter": "python",
   "pygments_lexer": "ipython3",
   "version": "3.7.7"
  }
 },
 "nbformat": 4,
 "nbformat_minor": 4
}
