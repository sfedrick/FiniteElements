{
 "cells": [
  {
   "cell_type": "code",
   "execution_count": 1,
   "metadata": {},
   "outputs": [],
   "source": [
    "from sympy import *\n",
    "import numpy as np\n",
    "\n",
    "from sympy import *\n",
    "from sympy import oo, gamma\n",
    "from IPython.display import display\n",
    "from scipy import special\n",
    "from matplotlib import pyplot as plt\n",
    "init_printing(use_latex='mathjax')\n",
    "x, y, z, t= symbols('x y z t')\n",
    "r,theta, phi = symbols('r  theta  phi')\n",
    "f, g, h = symbols('f g h', cls=Function)"
   ]
  },
  {
   "cell_type": "code",
   "execution_count": 5,
   "metadata": {},
   "outputs": [
    {
     "data": {
      "text/latex": [
       "$\\displaystyle \\left[\\begin{matrix}1 & 1 & 1 & 1\\\\0 & 1 & 1 & 1\\\\0 & 0 & 1 & 1\\\\0 & 0 & 0 & 1\\end{matrix}\\right]$"
      ],
      "text/plain": [
       "Matrix([\n",
       "[1, 1, 1, 1],\n",
       "[0, 1, 1, 1],\n",
       "[0, 0, 1, 1],\n",
       "[0, 0, 0, 1]])"
      ]
     },
     "metadata": {},
     "output_type": "display_data"
    }
   ],
   "source": [
    "row1=[1,1,1,1]\n",
    "row2=[0,1,1,1]\n",
    "row3=[0,0,1,1]\n",
    "row4=[0,0,0,1]\n",
    "U=Matrix([row1,row2,row3,row4])\n",
    "\n",
    "display(U)"
   ]
  },
  {
   "cell_type": "code",
   "execution_count": 7,
   "metadata": {},
   "outputs": [],
   "source": [
    "row1=[1,0,0,0]\n",
    "row2=[1,1,0,0]\n",
    "row3=[1,2,1,0]\n",
    "row4=[1,3,0,1]\n",
    "L=Matrix([row1,row2,row3,row4])"
   ]
  },
  {
   "cell_type": "code",
   "execution_count": 10,
   "metadata": {},
   "outputs": [
    {
     "data": {
      "text/latex": [
       "$\\displaystyle \\left[\\begin{matrix}1 & 1 & 1 & 1\\\\1 & 2 & 2 & 2\\\\1 & 3 & 4 & 4\\\\1 & 4 & 4 & 5\\end{matrix}\\right]$"
      ],
      "text/plain": [
       "Matrix([\n",
       "[1, 1, 1, 1],\n",
       "[1, 2, 2, 2],\n",
       "[1, 3, 4, 4],\n",
       "[1, 4, 4, 5]])"
      ]
     },
     "metadata": {},
     "output_type": "display_data"
    }
   ],
   "source": [
    "A=L*U\n",
    "display(A)"
   ]
  },
  {
   "cell_type": "code",
   "execution_count": null,
   "metadata": {},
   "outputs": [],
   "source": []
  }
 ],
 "metadata": {
  "kernelspec": {
   "display_name": "Python 3",
   "language": "python",
   "name": "python3"
  },
  "language_info": {
   "codemirror_mode": {
    "name": "ipython",
    "version": 3
   },
   "file_extension": ".py",
   "mimetype": "text/x-python",
   "name": "python",
   "nbconvert_exporter": "python",
   "pygments_lexer": "ipython3",
   "version": "3.7.7"
  }
 },
 "nbformat": 4,
 "nbformat_minor": 4
}
