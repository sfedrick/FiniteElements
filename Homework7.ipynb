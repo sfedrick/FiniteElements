{
 "cells": [
  {
   "cell_type": "code",
   "execution_count": 258,
   "metadata": {},
   "outputs": [],
   "source": [
    "import numpy as np\n",
    "import sympy as sym\n",
    "import numpy.linalg as LA\n",
    "from sympy import *\n",
    "from sympy import oo, gamma\n",
    "from IPython.display import display\n",
    "from scipy import special\n",
    "from matplotlib import pyplot as plt\n",
    "import matplotlib\n",
    "init_printing(use_latex='mathjax')\n",
    "x, y, z, t= symbols('x y z t')\n",
    "r,theta, phi = symbols('r  theta  phi')\n",
    "f, g, h = symbols('f g h', cls=Function)"
   ]
  },
  {
   "cell_type": "code",
   "execution_count": 203,
   "metadata": {},
   "outputs": [],
   "source": [
    "def newtonmethod(u,J,f):\n",
    "    u=np.array(u)\n",
    "    result=f(u)\n",
    "    while LA.norm(result)>0.000001:\n",
    "        Jac=J(u)\n",
    "        if(LA.det(Jac)!=0):\n",
    "            ainv = LA.inv(Jac)\n",
    "        else:\n",
    "            ainv = LA.pinv(Jac) \n",
    "        \n",
    "        Rhs=np.add(-ainv@result, u)\n",
    "        u=Rhs\n",
    "        result=f(u)\n",
    "        print(u)\n",
    "    return u\n",
    "    "
   ]
  },
  {
   "cell_type": "code",
   "execution_count": 213,
   "metadata": {},
   "outputs": [],
   "source": [
    "def jac1(u):\n",
    "    b=symbols('b')\n",
    "    c=symbols('c')\n",
    "    u1=u[0]\n",
    "    u2=u[1]\n",
    "    row1=[1-2*u1-b*u2,-b*u1]\n",
    "    row2=[c*u2,1-2*u2+c*u1]\n",
    "    A=Matrix([row1,row2])\n",
    "    return A\n"
   ]
  },
  {
   "cell_type": "code",
   "execution_count": 189,
   "metadata": {},
   "outputs": [],
   "source": [
    "def jac2(u):\n",
    "    u1=float(u[0])\n",
    "    u2=float(u[1])\n",
    "    row1=[1+6*u1**2,-2*u2]\n",
    "    row2=[-2*u2,3-2*u1]\n",
    "    U=np.array([row1,row2])\n",
    "    return U\n",
    "def func2(u):\n",
    "    lamda=1\n",
    "    u1=float(u[0])\n",
    "    u2=float(u[1])\n",
    "    row1=[u1+(2*u1**3)-(u2**2)-(2*lamda)]\n",
    "    row2=[3*u2-2*u1*u2-lamda]\n",
    "    U=np.array([row1,row2])\n",
    "    return U\n"
   ]
  },
  {
   "cell_type": "code",
   "execution_count": 272,
   "metadata": {},
   "outputs": [],
   "source": [
    "def jac3(u):\n",
    "    c=symbols('c')\n",
    "    x=u[0]\n",
    "    y=u[1]\n",
    "    z=u[2]\n",
    "    row1=[0,-1,1]\n",
    "    row2=[1,1,0]\n",
    "    row3=[z,0,x-c]\n",
    "    A=Matrix([row1,row2,row3])\n",
    "    return A"
   ]
  },
  {
   "cell_type": "code",
   "execution_count": 224,
   "metadata": {},
   "outputs": [
    {
     "data": {
      "text/plain": [
       "'Point 1'"
      ]
     },
     "metadata": {},
     "output_type": "display_data"
    },
    {
     "data": {
      "text/latex": [
       "$\\displaystyle \\left\\{ 1 : 2\\right\\}$"
      ],
      "text/plain": [
       "{1: 2}"
      ]
     },
     "metadata": {},
     "output_type": "display_data"
    },
    {
     "data": {
      "text/plain": [
       "'Point 2'"
      ]
     },
     "metadata": {},
     "output_type": "display_data"
    },
    {
     "data": {
      "text/latex": [
       "$\\displaystyle \\left\\{ \\frac{b c + 2}{b c + 1} : 1, \\  \\frac{2 b c + b - c + 4}{2 b c + 2} : 1\\right\\}$"
      ],
      "text/plain": [
       "⎧b⋅c + 2     2⋅b⋅c + b - c + 4   ⎫\n",
       "⎨───────: 1, ─────────────────: 1⎬\n",
       "⎩b⋅c + 1         2⋅b⋅c + 2       ⎭"
      ]
     },
     "metadata": {},
     "output_type": "display_data"
    },
    {
     "data": {
      "text/plain": [
       "'Point 3'"
      ]
     },
     "metadata": {},
     "output_type": "display_data"
    },
    {
     "data": {
      "text/latex": [
       "$\\displaystyle \\left\\{ -1 : 1, \\  1 - b : 1\\right\\}$"
      ],
      "text/plain": [
       "{-1: 1, 1 - b: 1}"
      ]
     },
     "metadata": {},
     "output_type": "display_data"
    },
    {
     "data": {
      "text/plain": [
       "'Point 4'"
      ]
     },
     "metadata": {},
     "output_type": "display_data"
    },
    {
     "data": {
      "text/latex": [
       "$\\displaystyle \\left\\{ - \\frac{b c}{2} + \\frac{b}{2} + \\frac{c}{2} - \\frac{\\sqrt{b^{2} c^{2} + 6 b^{2} c + b^{2} - 2 b c^{2} - 6 b c + c^{2}}}{2} - 1 : 1, \\  - \\frac{b c}{2} + \\frac{b}{2} + \\frac{c}{2} + \\frac{\\sqrt{b^{2} c^{2} + 6 b^{2} c + b^{2} - 2 b c^{2} - 6 b c + c^{2}}}{2} - 1 : 1\\right\\}$"
      ],
      "text/plain": [
       "⎧                   ___________________________________________               \n",
       "⎪                  ╱  2  2      2      2        2            2                \n",
       "⎨  b⋅c   b   c   ╲╱  b ⋅c  + 6⋅b ⋅c + b  - 2⋅b⋅c  - 6⋅b⋅c + c             b⋅c \n",
       "⎪- ─── + ─ + ─ - ────────────────────────────────────────────── - 1: 1, - ─── \n",
       "⎩   2    2   2                         2                                   2  \n",
       "\n",
       "             ___________________________________________       ⎫\n",
       "            ╱  2  2      2      2        2            2        ⎪\n",
       "  b   c   ╲╱  b ⋅c  + 6⋅b ⋅c + b  - 2⋅b⋅c  - 6⋅b⋅c + c         ⎬\n",
       "+ ─ + ─ + ────────────────────────────────────────────── - 1: 1⎪\n",
       "  2   2                         2                              ⎭"
      ]
     },
     "metadata": {},
     "output_type": "display_data"
    }
   ],
   "source": [
    " b=symbols('b')\n",
    "c=symbols('c')\n",
    "point1=jac1([0,0])\n",
    "point2=jac1([1/(2*(-1-b*c)),1/(2*(-1-b*c))])\n",
    "point3=jac1([0,1])\n",
    "point4=jac1([1-b,1])\n",
    "display(\"Point 1\")\n",
    "display(point1.eigenvals())\n",
    "display(\"Point 2\")\n",
    "display(point2.eigenvals())\n",
    "display(\"Point 3\")\n",
    "display(point3.eigenvals())\n",
    "display(\"Point 4\")\n",
    "display(simplify(point4.eigenvals()))"
   ]
  },
  {
   "cell_type": "code",
   "execution_count": 204,
   "metadata": {
    "scrolled": true
   },
   "outputs": [
    {
     "name": "stdout",
     "output_type": "stream",
     "text": [
      "[[1.02542694]\n",
      " [0.97191651]]\n",
      "[[1.00182721]\n",
      " [1.00524677]]\n",
      "[[0.99998443]\n",
      " [0.99994934]]\n",
      "[[1.]\n",
      " [1.]]\n"
     ]
    },
    {
     "data": {
      "text/plain": [
       "array([[1.],\n",
       "       [1.]])"
      ]
     },
     "execution_count": 204,
     "metadata": {},
     "output_type": "execute_result"
    }
   ],
   "source": [
    "u=[[0.8],[0.8]]\n",
    "newtonmethod(u,jac2,func2)"
   ]
  },
  {
   "cell_type": "code",
   "execution_count": 205,
   "metadata": {},
   "outputs": [
    {
     "name": "stdout",
     "output_type": "stream",
     "text": [
      "[[1.18863636]\n",
      " [1.325     ]]\n",
      "[[1.2150449 ]\n",
      " [1.71822029]]\n",
      "[[1.18974413]\n",
      " [1.60210402]]\n",
      "[[1.1841877 ]\n",
      " [1.58288066]]\n",
      "[[1.18399861]\n",
      " [1.58227118]]\n"
     ]
    },
    {
     "data": {
      "text/plain": [
       "array([[1.18399861],\n",
       "       [1.58227118]])"
      ]
     },
     "execution_count": 205,
     "metadata": {},
     "output_type": "execute_result"
    }
   ],
   "source": [
    "u=[[0.8],[1.1]]\n",
    "newtonmethod(u,jac2,func2)"
   ]
  },
  {
   "cell_type": "code",
   "execution_count": 206,
   "metadata": {
    "scrolled": true
   },
   "outputs": [
    {
     "name": "stdout",
     "output_type": "stream",
     "text": [
      "[[3.30942092]\n",
      " [2.27225583]]\n",
      "[[2.20172885]\n",
      " [1.11469904]]\n",
      "[[1.47674645]\n",
      " [0.43911147]]\n",
      "[[ -3.63382879]\n",
      " [-75.00411488]]\n",
      "[[ -1.01057735]\n",
      " [-38.22773611]]\n",
      "[[  0.26121831]\n",
      " [-19.16605706]]\n",
      "[[ 0.90535597]\n",
      " [-9.56228146]]\n",
      "[[ 1.26311795]\n",
      " [-4.91221732]]\n",
      "[[ 1.51245234]\n",
      " [-3.05968608]]\n",
      "[[ 1.66388096]\n",
      " [-2.9453078 ]]\n",
      "[[ 1.66728731]\n",
      " [-2.98977524]]\n",
      "[[ 1.66725879]\n",
      " [-2.9893796 ]]\n"
     ]
    },
    {
     "data": {
      "text/plain": [
       "array([[ 1.66725879],\n",
       "       [-2.9893796 ]])"
      ]
     },
     "execution_count": 206,
     "metadata": {},
     "output_type": "execute_result"
    }
   ],
   "source": [
    "u=[[5],[5]]\n",
    "newtonmethod(u,jac2,func2)\n"
   ]
  },
  {
   "cell_type": "code",
   "execution_count": 201,
   "metadata": {},
   "outputs": [
    {
     "name": "stdout",
     "output_type": "stream",
     "text": [
      "[[-0.00409856]\n",
      " [-0.0015738 ]]\n"
     ]
    }
   ],
   "source": [
    "u=np.array([[1.667],[-2.9893]])\n",
    "\n",
    "print(func2(u))"
   ]
  },
  {
   "cell_type": "code",
   "execution_count": 299,
   "metadata": {
    "scrolled": true
   },
   "outputs": [],
   "source": [
    "c=symbols('c')\n",
    "x1=(c+sqrt((c**2)-4))/2\n",
    "y1=-x1\n",
    "z1=x1\n",
    "x2=(c-sqrt((c**2)-4))/2\n",
    "y2=-x2\n",
    "z2=x2\n",
    "bifur1=jac3([x1,y1,z1])\n",
    "bifur2=jac3([x2,y2,z2])\n",
    "branch1=bifur1.eigenvals()\n",
    "branch2=bifur2.eigenvals()\n",
    "e1, values = branch1.keys(), branch1.values()\n",
    "e2, values = branch2.keys(), branch2.values()\n",
    "e1=list(e1)\n",
    "e2=list(e2)"
   ]
  },
  {
   "cell_type": "code",
   "execution_count": 292,
   "metadata": {},
   "outputs": [
    {
     "data": {
      "text/latex": [
       "$\\displaystyle 0.7429341358783228$"
      ],
      "text/plain": [
       "0.7429341358783228"
      ]
     },
     "metadata": {},
     "output_type": "display_data"
    }
   ],
   "source": []
  },
  {
   "cell_type": "code",
   "execution_count": 309,
   "metadata": {},
   "outputs": [],
   "source": [
    "def addPoint(scat, new_point, c='k'):\n",
    "    old_off = scat.get_offsets()\n",
    "    new_off = np.concatenate([old_off,np.array(new_point, ndmin=2)])\n",
    "    old_c = scat.get_facecolors()\n",
    "    new_c = np.concatenate([old_c, np.array(matplotlib.colors.to_rgba(c), ndmin=2)])\n",
    "\n",
    "    scat.set_offsets(new_off)\n",
    "    scat.set_facecolors(new_c)\n",
    "\n",
    "    scat.axes.figure.canvas.draw_idle()"
   ]
  },
  {
   "cell_type": "code",
   "execution_count": 317,
   "metadata": {},
   "outputs": [
    {
     "data": {
      "text/latex": [
       "$\\displaystyle \\left( -10.0, \\  10.0\\right)$"
      ],
      "text/plain": [
       "(-10.0, 10.0)"
      ]
     },
     "execution_count": 317,
     "metadata": {},
     "output_type": "execute_result"
    },
    {
     "data": {
      "image/png": "[encoded data removed]",
      "text/plain": [
       "<Figure size 432x288 with 1 Axes>"
      ]
     },
     "metadata": {
      "needs_background": "light"
     },
     "output_type": "display_data"
    }
   ],
   "source": [
    "fig, ax = plt.subplots()\n",
    "scat = ax.scatter([0,0,0],[0,0,0],cmap=matplotlib.cm.spring, c=[0,2,1])\n",
    "fig.canvas.draw()  # if running all the code in the same cell, this is required for it to work, not sure why\n",
    "C=np.arange(0,10,0.1)\n",
    "color1='b'\n",
    "color2='b'\n",
    "for param in C:\n",
    "    b1x=float(re(x1.subs(c,param)))\n",
    "    b2x=float(re(x2.subs(c,param)))\n",
    "    for e in e1:\n",
    "        if(float(re(e.subs(c,0)))>0):\n",
    "            color1='r'\n",
    "    for e in e2:\n",
    "        if(float(re(e.subs(c,0)))>0):\n",
    "            color2='r'\n",
    "    addPoint(scat, [param,b1x], color1)    \n",
    "    addPoint(scat, [param,b2x], color2)  \n",
    "    color1='b'\n",
    "    color2='b'\n",
    "ax.set_xlim(-10,10)\n",
    "ax.set_ylim(-10,10)"
   ]
  },
  {
   "cell_type": "code",
   "execution_count": null,
   "metadata": {},
   "outputs": [],
   "source": []
  }
 ],
 "metadata": {
  "kernelspec": {
   "display_name": "Python 3",
   "language": "python",
   "name": "python3"
  },
  "language_info": {
   "codemirror_mode": {
    "name": "ipython",
    "version": 3
   },
   "file_extension": ".py",
   "mimetype": "text/x-python",
   "name": "python",
   "nbconvert_exporter": "python",
   "pygments_lexer": "ipython3",
   "version": "3.7.7"
  }
 },
 "nbformat": 4,
 "nbformat_minor": 4
}
