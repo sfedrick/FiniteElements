{
 "cells": [
  {
   "cell_type": "code",
   "execution_count": 93,
   "metadata": {},
   "outputs": [],
   "source": [
    "import numpy as np\n",
    "import sympy as sym\n",
    "from sympy import *\n",
    "from IPython.display import display\n",
    "init_printing(use_latex='mathjax')\n",
    "from scipy.linalg import lu_factor\n",
    "import scipy\n",
    "from matplotlib import pyplot as plt\n",
    "from numpy import linalg as LA"
   ]
  },
  {
   "cell_type": "markdown",
   "metadata": {},
   "source": [
    "LU Decomposition"
   ]
  },
  {
   "cell_type": "code",
   "execution_count": 94,
   "metadata": {},
   "outputs": [
    {
     "data": {
      "text/latex": [
       "$\\displaystyle \\left[\\begin{matrix}1 & -2 & 6\\\\2 & 2 & 3\\\\-1 & 3 & 0\\end{matrix}\\right]$"
      ],
      "text/plain": [
       "⎡1   -2  6⎤\n",
       "⎢         ⎥\n",
       "⎢2   2   3⎥\n",
       "⎢         ⎥\n",
       "⎣-1  3   0⎦"
      ]
     },
     "metadata": {},
     "output_type": "display_data"
    }
   ],
   "source": [
    "row1=[1,-2,6]\n",
    "row2=[2,2,3]\n",
    "row3=[-1,3,0]\n",
    "A=Matrix([row1,row2,row3])\n",
    "display(A)"
   ]
  },
  {
   "cell_type": "code",
   "execution_count": 115,
   "metadata": {},
   "outputs": [
    {
     "data": {
      "text/plain": [
       "'L'"
      ]
     },
     "metadata": {},
     "output_type": "display_data"
    },
    {
     "data": {
      "text/latex": [
       "$\\displaystyle \\left[\\begin{matrix}1.0 & 0.0 & 0.0\\\\2.0 & 1.0 & 0.0\\\\-1.0 & 0.166666666666667 & 1.0\\end{matrix}\\right]$"
      ],
      "text/plain": [
       "⎡1.0          0.0         0.0⎤\n",
       "⎢                            ⎥\n",
       "⎢2.0          1.0         0.0⎥\n",
       "⎢                            ⎥\n",
       "⎣-1.0  0.166666666666667  1.0⎦"
      ]
     },
     "metadata": {},
     "output_type": "display_data"
    },
    {
     "data": {
      "text/plain": [
       "'U'"
      ]
     },
     "metadata": {},
     "output_type": "display_data"
    },
    {
     "data": {
      "text/latex": [
       "$\\displaystyle \\left[\\begin{matrix}1.0 & -2.0 & 6.0\\\\0.0 & 6.0 & -9.0\\\\0.0 & 0.0 & 7.5\\end{matrix}\\right]$"
      ],
      "text/plain": [
       "⎡1.0  -2.0  6.0 ⎤\n",
       "⎢               ⎥\n",
       "⎢0.0  6.0   -9.0⎥\n",
       "⎢               ⎥\n",
       "⎣0.0  0.0   7.5 ⎦"
      ]
     },
     "metadata": {},
     "output_type": "display_data"
    },
    {
     "data": {
      "text/plain": [
       "'L*U'"
      ]
     },
     "metadata": {},
     "output_type": "display_data"
    },
    {
     "data": {
      "text/latex": [
       "$\\displaystyle \\left[\\begin{matrix}1.0 & -2.0 & 6.0\\\\2.0 & 2.0 & 3.0\\\\-1.0 & 3.0 & 0.0\\end{matrix}\\right]$"
      ],
      "text/plain": [
       "⎡1.0   -2.0  6.0⎤\n",
       "⎢               ⎥\n",
       "⎢2.0   2.0   3.0⎥\n",
       "⎢               ⎥\n",
       "⎣-1.0  3.0   0.0⎦"
      ]
     },
     "metadata": {},
     "output_type": "display_data"
    }
   ],
   "source": [
    "A=np.array([row1,row2,row3])\n",
    "\n",
    "row1=[1,0,0]\n",
    "row2=[2,1,0]\n",
    "row3=[-1,1/6,1]\n",
    "L=np.array([row1,row2,row3])\n",
    "row1=[1,-2,6]\n",
    "row2=[0,6,-9]\n",
    "row3=[0,0,15/2]\n",
    "U=np.array([row1,row2,row3])\n",
    "display(\"L\")\n",
    "display(Matrix(L))\n",
    "display(\"U\")\n",
    "display(Matrix(U))\n",
    "display(\"L*U\")\n",
    "display(Matrix(L@U))\n"
   ]
  },
  {
   "cell_type": "markdown",
   "metadata": {},
   "source": [
    "Jacobi Method we switch the rows of A so that M is invertible because row switching is a linear operation "
   ]
  },
  {
   "cell_type": "code",
   "execution_count": 97,
   "metadata": {},
   "outputs": [
    {
     "data": {
      "text/latex": [
       "$\\displaystyle \\left\\{ - \\frac{1}{2} : 1, \\  \\frac{1}{4} - \\frac{\\sqrt{39} i}{12} : 1, \\  \\frac{1}{4} + \\frac{\\sqrt{39} i}{12} : 1\\right\\}$"
      ],
      "text/plain": [
       "⎧         1   √39⋅ⅈ     1   √39⋅ⅈ   ⎫\n",
       "⎨-1/2: 1, ─ - ─────: 1, ─ + ─────: 1⎬\n",
       "⎩         4     12      4     12    ⎭"
      ]
     },
     "execution_count": 97,
     "metadata": {},
     "output_type": "execute_result"
    }
   ],
   "source": [
    "row1=[2,2,3]\n",
    "row2=[-1,3,0]\n",
    "row3=[1,-2,6]\n",
    "A=Matrix([row1,row2,row3])\n",
    "row1=[2,0,0]\n",
    "row2=[0,3,0]\n",
    "row3=[0,0,6]\n",
    "M=Matrix([row1,row2,row3])\n",
    "\n",
    "B=eye(3)-(M**-1)*A\n",
    "sym.simplify(B.eigenvals())\n"
   ]
  },
  {
   "cell_type": "markdown",
   "metadata": {},
   "source": [
    "B does has appropriate eigen values"
   ]
  },
  {
   "cell_type": "code",
   "execution_count": 98,
   "metadata": {},
   "outputs": [],
   "source": [
    "n=5\n",
    "x=Matrix([3,2,0])\n",
    "b=Matrix([3,2,0])\n",
    "for i in range(0,100):\n",
    "    x=B*x+(M**-1)*b\n",
    "   \n"
   ]
  },
  {
   "cell_type": "markdown",
   "metadata": {},
   "source": [
    "Jacobi method converges"
   ]
  },
  {
   "cell_type": "code",
   "execution_count": 99,
   "metadata": {},
   "outputs": [
    {
     "data": {
      "text/plain": [
       "array([[0.4],\n",
       "       [0.8],\n",
       "       [0.2]])"
      ]
     },
     "metadata": {},
     "output_type": "display_data"
    }
   ],
   "source": [
    "display(np.array(x).astype(np.float64))"
   ]
  },
  {
   "cell_type": "markdown",
   "metadata": {},
   "source": [
    "Gauss siedel method "
   ]
  },
  {
   "cell_type": "code",
   "execution_count": 100,
   "metadata": {},
   "outputs": [],
   "source": [
    "row1=[2,2,3]\n",
    "row2=[-1,3,0]\n",
    "row3=[1,-2,6]\n",
    "A=Matrix([row1,row2,row3])\n",
    "row1=[2,0,0]\n",
    "row2=[-1,3,0]\n",
    "row3=[1,-2,6]\n",
    "M=Matrix([row1,row2,row3])\n",
    "B=eye(3)-(M**-1)*A\n",
    "x=Matrix([3,2,0])\n",
    "b=Matrix([3,2,0])\n",
    "for i in range(2,10):\n",
    "    x=B*x+(M**-1)*b\n",
    "    "
   ]
  },
  {
   "cell_type": "code",
   "execution_count": 101,
   "metadata": {},
   "outputs": [
    {
     "data": {
      "text/plain": [
       "array([[0.40005493],\n",
       "       [0.80001831],\n",
       "       [0.19999695]])"
      ]
     },
     "metadata": {},
     "output_type": "display_data"
    }
   ],
   "source": [
    "display(np.array(x).astype(np.float64))"
   ]
  },
  {
   "cell_type": "markdown",
   "metadata": {},
   "source": [
    "SOR"
   ]
  },
  {
   "cell_type": "code",
   "execution_count": 102,
   "metadata": {},
   "outputs": [],
   "source": [
    "row1=[2,2,3]\n",
    "row2=[-1,3,0]\n",
    "row3=[1,-2,6]\n",
    "A=Matrix([row1,row2,row3])\n",
    "w=1;\n",
    "row1=[2/w,0,0]\n",
    "row2=[-1,3/w,0]\n",
    "row3=[1,-2,6/w]\n",
    "M=Matrix([row1,row2,row3])\n",
    "B=eye(3)-(M**-1)*A\n",
    "x=Matrix([3,2,0])\n",
    "b=Matrix([3,2,0])\n",
    "for i in range(1,100):  \n",
    "    x=B*x+(M**-1)*b\n"
   ]
  },
  {
   "cell_type": "code",
   "execution_count": 103,
   "metadata": {},
   "outputs": [],
   "source": [
    "row1=[2,2,3]\n",
    "row2=[-1,3,0]\n",
    "row3=[1,-2,6]\n",
    "A=Matrix([row1,row2,row3])\n",
    "listerror=[]\n",
    "listw=[]\n",
    "D=np.arange(0.1,1.9,0.01)\n",
    "for w in D:\n",
    "    row1=[2/w,0,0]\n",
    "    row2=[-1,3/w,0]\n",
    "    row3=[1,-2,6/w]\n",
    "    M=Matrix([row1,row2,row3])\n",
    "    B=eye(3)-(M**-1)*A\n",
    "    xold=Matrix([3,2,0])\n",
    "    b=Matrix([3,2,0])\n",
    "    error=0\n",
    "    errorcount=0;\n",
    "    for i in range(1,100): \n",
    "        if (error>0.000001):\n",
    "            errorcount+=1\n",
    "        xnew=B*xold+(M**-1)*b\n",
    "        for i in range(0,len(xnew)):\n",
    "            error=((xnew[i]-xold[i])**2)**0.5\n",
    "        xold=xnew\n",
    "    listerror.append(errorcount)\n",
    "    listw.append(w)\n",
    "    \n",
    "       "
   ]
  },
  {
   "cell_type": "code",
   "execution_count": 104,
   "metadata": {},
   "outputs": [
    {
     "data": {
      "image/png": "[encoded data removed]",
      "text/plain": [
       "<Figure size 432x288 with 1 Axes>"
      ]
     },
     "metadata": {
      "needs_background": "light"
     },
     "output_type": "display_data"
    }
   ],
   "source": [
    "plt.show()\n",
    "plt.plot(listw,listerror)\n",
    "\n",
    "plt.xlabel('w')\n",
    "plt.ylabel('Error')\n",
    "plt.title('W vs Error')\n",
    "plt.show()"
   ]
  },
  {
   "cell_type": "code",
   "execution_count": 106,
   "metadata": {},
   "outputs": [],
   "source": [
    "\n",
    "\n",
    "def is_pos_def(x):\n",
    "    \"\"\"check if a matrix is symmetric positive definite\"\"\"\n",
    "    return np.all(np.linalg.eigvals(x) > 0)\n",
    "\n",
    "def steepest_descent(A, b, x):\n",
    "    \"\"\"\n",
    "    Solve Ax = b\n",
    "    Parameter x: initial values\n",
    "    \"\"\"\n",
    "    if (is_pos_def(A) == False) | (A != A.T).any():\n",
    "        raise ValueError('Matrix A needs to be symmetric positive definite (SPD)')\n",
    "    r = b - A @ x\n",
    "    k = 0\n",
    "    while LA.norm(r) > 1e-10 :\n",
    "        p = r\n",
    "        q = A @ p\n",
    "        alpha = (p @ r) / (p @ q)\n",
    "        x = x + alpha * p\n",
    "        r = r - alpha * q\n",
    "        k =+ 1\n",
    "\n",
    "    return x"
   ]
  },
  {
   "cell_type": "markdown",
   "metadata": {},
   "source": [
    "Solve using steepest decent algorithm"
   ]
  },
  {
   "cell_type": "code",
   "execution_count": 107,
   "metadata": {},
   "outputs": [
    {
     "data": {
      "text/plain": [
       "array([0.4, 0.8, 0.2])"
      ]
     },
     "execution_count": 107,
     "metadata": {},
     "output_type": "execute_result"
    }
   ],
   "source": [
    "row1=[1,-2,6]\n",
    "row2=[2,2,3]\n",
    "row3=[-1,3,0]\n",
    "\n",
    "A0=np.array([row1,row2,row3])\n",
    "A=np.dot(A0.T,A0)\n",
    "b=np.array([0,3,2])\n",
    "b=np.dot(A0.T,b)\n",
    "\n",
    "zero=np.array([0,0,0])\n",
    "steepest_descent(A, b, zero)\n"
   ]
  },
  {
   "cell_type": "code",
   "execution_count": 108,
   "metadata": {},
   "outputs": [],
   "source": [
    "def conjugate_gradient(A, b):\n",
    "    if (is_pos_def(A) == False) | (A != A.T).any():\n",
    "        raise ValueError('Matrix A needs to be symmetric positive definite (SPD)')\n",
    "    r = b \n",
    "    k = 0\n",
    "    x = np.zeros(A.shape[-1])\n",
    "    while LA.norm(r) > 1e-10 :\n",
    "        if k == 0:\n",
    "            p = r\n",
    "        else: \n",
    "            gamma = - (p @ A @ r)/(p @ A @ p)\n",
    "            p = r + gamma * p\n",
    "        alpha = (p @ r) / (p @ A @ p)\n",
    "        x = x + alpha * p\n",
    "        r = r - alpha * (A @ p)\n",
    "        k =+ 1\n",
    "    return x"
   ]
  },
  {
   "cell_type": "markdown",
   "metadata": {},
   "source": [
    "Solve using conjugate gradient method "
   ]
  },
  {
   "cell_type": "code",
   "execution_count": 109,
   "metadata": {},
   "outputs": [
    {
     "data": {
      "text/plain": [
       "array([0.4, 0.8, 0.2])"
      ]
     },
     "execution_count": 109,
     "metadata": {},
     "output_type": "execute_result"
    }
   ],
   "source": [
    "row1=[1,-2,6]\n",
    "row2=[2,2,3]\n",
    "row3=[-1,3,0]\n",
    "\n",
    "A0=np.array([row1,row2,row3])\n",
    "A=np.dot(A0.T,A0)\n",
    "b=np.array([0,3,2])\n",
    "b=np.dot(A0.T,b)\n",
    "\n",
    "zero=np.array([0,0,0])\n",
    "conjugate_gradient(A, b)\n"
   ]
  }
 ],
 "metadata": {
  "kernelspec": {
   "display_name": "Python 3",
   "language": "python",
   "name": "python3"
  },
  "language_info": {
   "codemirror_mode": {
    "name": "ipython",
    "version": 3
   },
   "file_extension": ".py",
   "mimetype": "text/x-python",
   "name": "python",
   "nbconvert_exporter": "python",
   "pygments_lexer": "ipython3",
   "version": "3.7.7"
  }
 },
 "nbformat": 4,
 "nbformat_minor": 4
}
