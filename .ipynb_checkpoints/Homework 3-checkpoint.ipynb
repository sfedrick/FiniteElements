{
 "cells": [
  {
   "cell_type": "code",
   "execution_count": 81,
   "metadata": {},
   "outputs": [],
   "source": [
    "import numpy as np\n",
    "import sympy as sym\n",
    "from sympy import init_session\n",
    "from sympy import *\n",
    "from IPython.display import display\n",
    "init_printing(use_latex='mathjax')\n",
    "from matplotlib import pyplot as plt"
   ]
  },
  {
   "cell_type": "code",
   "execution_count": 82,
   "metadata": {},
   "outputs": [],
   "source": [
    "#A=sym.Matrix([[0,1,1,1,0],[0,0,h,2*h,1],[1/h,0,(h)/2,4*(h)/2,-1],[0,0,(h**3)/6,8*(h**3)/6,(h**2)/2],[0,0,(h**4)/24,16*(h**4)/24,-(h**3)/6]])                                        \n",
    "h = sym.symbols('h')\n",
    "y1,y2=sym.symbols('y1 y2')\n",
    "thetaa,thetab=sym.symbols('theta1 theta2')\n",
    "row1=[1,1,y1]\n",
    "row2=[thetaa,thetab,y2]\n",
    "\n",
    "A=sym.Matrix([row1,row2])\n"
   ]
  },
  {
   "cell_type": "code",
   "execution_count": 83,
   "metadata": {},
   "outputs": [
    {
     "data": {
      "text/latex": [
       "$\\displaystyle \\left\\{ c_{1} : \\frac{- \\theta_{2} y_{1} + y_{2}}{\\theta_{1} - \\theta_{2}}, \\  c_{2} : \\frac{\\theta_{1} y_{1} - y_{2}}{\\theta_{1} - \\theta_{2}}\\right\\}$"
      ],
      "text/plain": [
       "⎧       -θ₂⋅y₁ + y₂         θ₁⋅y₁ - y₂⎫\n",
       "⎨c_{1}: ───────────, c_{2}: ──────────⎬\n",
       "⎩         θ₁ - θ₂            θ₁ - θ₂  ⎭"
      ]
     },
     "execution_count": 83,
     "metadata": {},
     "output_type": "execute_result"
    }
   ],
   "source": [
    "c1,c2=sym.symbols('c_{1} c_{2}')\n",
    "solve_linear_system(A, c1,c2)"
   ]
  },
  {
   "cell_type": "code",
   "execution_count": 84,
   "metadata": {},
   "outputs": [],
   "source": [
    " x = sym.symbols('x')\n",
    "NL=2*(-0.5+x)*(-1+x)\n",
    "NC=1-4*(-0.5+x)**2\n",
    "NR=2*x*(-0.5+x)\n"
   ]
  },
  {
   "cell_type": "code",
   "execution_count": 85,
   "metadata": {},
   "outputs": [],
   "source": [
    "def A(x,xk,xk1):\n",
    "    k= (x-xk)/(xk1-xk)\n",
    "    y=1\n",
    "    return 1\n",
    "\n",
    "def G(x,xk,xk1):\n",
    "    k=(x-xk)/(xk1-xk)\n",
    "    y=1\n",
    "    return y\n",
    "def H(x,xk,xk1):\n",
    "    k=(x-xk)/(xk1-xk)\n",
    "    y=1\n",
    "    return y\n",
    "\n",
    "    \n",
    "def integrand(Ni,Nj,xreal,b):\n",
    "    #A=sym.symbols('A')\n",
    "    #G=sym.symbols('G')\n",
    "    #hi,hf = sym.symbols('h_{i} h_{f}')\n",
    "    hi,hf = 0,1\n",
    "    DNi=diff(Ni, x)\n",
    "    DNj=diff(Nj, x)\n",
    "    xk=xreal\n",
    "    xk1=xreal+b\n",
    "    part1=integrate(A(x,xk,xk1)*DNi*DNj, (x, hi, hf))\n",
    "    part2=integrate(G(x,xk,xk1)*Ni*Nj, (x, hi, hf))\n",
    "    complete=part1+part2\n",
    "    return complete\n",
    "    \n",
    "def integrand2(Ni,Nj,xreal,b,start,end):\n",
    "    #A=sym.symbols('A')\n",
    "    #G=sym.symbols('G')\n",
    "    #hi,hf = sym.symbols('h_{i} h_{f}')\n",
    "    hi,hf=0,1\n",
    "    Q=1\n",
    "    #hi,hf=0,1\n",
    "    DNi=diff(Ni, x)\n",
    "    DNj=diff(Nj, x)\n",
    "    xk=xreal\n",
    "    xk1=xreal+b\n",
    "    u=1\n",
    "    if(start):\n",
    "        return 0\n",
    "    elif(end):\n",
    "        part1=integrate(H(x,xk,xk1)*Ni, (x, hi, hf))-Q\n",
    "        return part1\n",
    "    else:\n",
    "        part1=integrate(H(x,xk,xk1)*Ni, (x, hi, hf))\n",
    "        part2=Nj.subs(x,0)\n",
    "        return  part1-part2\n",
    "        "
   ]
  },
  {
   "cell_type": "code",
   "execution_count": 86,
   "metadata": {},
   "outputs": [],
   "source": [
    " \n",
    "def createlocal(NL,NC,NR,x,b):\n",
    "    Ni=[NL,NC,NR]\n",
    "    Nj=[NL,NC,NR]\n",
    "    n=len(Ni)\n",
    "    K=zeros(n,n)\n",
    "    for i in range(0,n):\n",
    "        for j in range(0,n):\n",
    "            K[i,j]=integrand(Ni[i],Nj[j],x,b)\n",
    "    return K\n",
    "    "
   ]
  },
  {
   "cell_type": "code",
   "execution_count": 87,
   "metadata": {},
   "outputs": [],
   "source": [
    "def locagloba(localA,n,size):\n",
    "    row=len(localA[0,:]);\n",
    "    col=len(localA[:,0]);\n",
    "    size=size-row;\n",
    "    if(n>0):\n",
    "        newA=localA.row_insert(0, zeros(n,row))\n",
    "        newA=localA.col_insert(0, zeros(col+n,n))\n",
    "    newA=localA.row_insert(row, zeros(size-n,row))\n",
    "    newA=localA.col_insert(col, zeros(col+(size-n),(size-n)))  \n",
    "    return newA"
   ]
  },
  {
   "cell_type": "code",
   "execution_count": 88,
   "metadata": {},
   "outputs": [],
   "source": [
    "def locagloba(localA,n,size):\n",
    "    test=localA\n",
    "    row=len(localA[0,:]);\n",
    "    col=len(localA[:,0]);\n",
    "    row=len(localA[0,:]);\n",
    "    col=len(localA[:,0]);\n",
    "    if(n>0):\n",
    "        test=test.row_insert(0, zeros(2*n,row))\n",
    "        row,col=test.shape\n",
    "        test=test.col_insert(0, zeros(row,2*n))\n",
    "    row,col=test.shape\n",
    "\n",
    "    test=test.row_insert(row, zeros(size-col,row))\n",
    "    row,col=test.shape\n",
    "    test=test.col_insert(col, zeros(row,size-col))\n",
    "    return test\n",
    "\n",
    "def createglobal(localA,elementnumber):\n",
    "    number=(3+2*(elementnumber-1))\n",
    "    globalA=zeros(number)\n",
    "    for i in range(0,elementnumber):\n",
    "        new=locagloba(localA[i],i,number)\n",
    "        globalA=globalA+new\n",
    "    return globalA\n",
    "def createf(NL,NC,NR,size,domain):\n",
    "    start=domain[0]\n",
    "    end=domain[1]\n",
    "    size=size-1\n",
    "    b=(end-start)/(size)\n",
    "    Ni=[NL,NC,NR]\n",
    "    Nj=[NL,NC,NR]\n",
    "    rhs=zeros(size+1,1)\n",
    "    for i in range(0,size+1):\n",
    "        xreal=start+i*b\n",
    "        start=False;\n",
    "        end=False;\n",
    "        if(i==0):\n",
    "            start=True\n",
    "        if(i==size):\n",
    "            end=True\n",
    "        rhs[i]=integrand2(Ni[i%3],Ni[0],xreal,b,start,end)\n",
    "    return rhs"
   ]
  },
  {
   "cell_type": "code",
   "execution_count": 96,
   "metadata": {},
   "outputs": [],
   "source": [
    "elementnumber=1\n",
    "localA=[]\n",
    "domain=[0,1]\n",
    "hsize=(domain[1]-domain[0])/elementnumber  \n",
    "for i in range(0,elementnumber):  \n",
    "    localA.append(createlocal(NL,NC,NR,domain[0]+i*hsize,hsize))\n",
    "globalA=createglobal(localA,elementnumber)\n",
    "sizerow,sizecol=globalA.shape\n",
    "F=createf(NL,NC,NR,sizerow,domain)\n",
    "                  "
   ]
  },
  {
   "cell_type": "code",
   "execution_count": 98,
   "metadata": {
    "scrolled": true
   },
   "outputs": [
    {
     "data": {
      "text/latex": [
       "$\\displaystyle \\left[ \\left[\\begin{matrix}2.46666666666667 & -2.6 & 0.299999999999999\\\\-2.6 & 5.86666666666666 & -2.6\\\\0.299999999999999 & -2.6 & 2.46666666666667\\end{matrix}\\right]\\right]$"
      ],
      "text/plain": [
       "⎡⎡2.46666666666667         -2.6        0.299999999999999⎤⎤\n",
       "⎢⎢                                                      ⎥⎥\n",
       "⎢⎢      -2.6         5.86666666666666        -2.6       ⎥⎥\n",
       "⎢⎢                                                      ⎥⎥\n",
       "⎣⎣0.299999999999999        -2.6        2.46666666666667 ⎦⎦"
      ]
     },
     "metadata": {},
     "output_type": "display_data"
    }
   ],
   "source": [
    "display(localA)"
   ]
  },
  {
   "cell_type": "code",
   "execution_count": 91,
   "metadata": {},
   "outputs": [
    {
     "data": {
      "text/latex": [
       "$\\displaystyle \\left[\\begin{matrix}0\\\\-0.333333333333333\\\\-0.833333333333333\\\\-0.833333333333333\\\\-0.333333333333333\\end{matrix}\\right]$"
      ],
      "text/plain": [
       "⎡        0         ⎤\n",
       "⎢                  ⎥\n",
       "⎢-0.333333333333333⎥\n",
       "⎢                  ⎥\n",
       "⎢-0.833333333333333⎥\n",
       "⎢                  ⎥\n",
       "⎢-0.833333333333333⎥\n",
       "⎢                  ⎥\n",
       "⎣-0.333333333333333⎦"
      ]
     },
     "metadata": {},
     "output_type": "display_data"
    }
   ],
   "source": [
    "display(F)"
   ]
  },
  {
   "cell_type": "code",
   "execution_count": 92,
   "metadata": {
    "scrolled": false
   },
   "outputs": [
    {
     "data": {
      "text/latex": [
       "$\\displaystyle \\left[\\begin{matrix}0\\\\0.666666666666667\\\\0.333333333333333\\\\0.666666666666667\\\\-0.791666666666667\\end{matrix}\\right]$"
      ],
      "text/plain": [
       "⎡        0         ⎤\n",
       "⎢                  ⎥\n",
       "⎢0.666666666666667 ⎥\n",
       "⎢                  ⎥\n",
       "⎢0.333333333333333 ⎥\n",
       "⎢                  ⎥\n",
       "⎢0.666666666666667 ⎥\n",
       "⎢                  ⎥\n",
       "⎣-0.791666666666667⎦"
      ]
     },
     "metadata": {},
     "output_type": "display_data"
    }
   ],
   "source": [
    "\n",
    "F=Matrix([0,2/3,1/3,2/3,7/6])\n",
    "F=Matrix([0,2/3,1/3,2/3,integrate(NR,(x,0.5,1))-1])\n",
    "display(F)"
   ]
  },
  {
   "cell_type": "code",
   "execution_count": 93,
   "metadata": {},
   "outputs": [
    {
     "data": {
      "text/latex": [
       "$\\displaystyle \\left[\\begin{matrix}5.86666666666666 & -2.6 & 0 & 0 & 0.666666666666667\\\\-2.6 & 4.93333333333333 & -2.6 & 0.299999999999999 & 0.333333333333333\\\\0 & -2.6 & 5.86666666666666 & -2.6 & 0.666666666666667\\\\0 & 0.299999999999999 & -2.6 & 2.46666666666667 & -0.791666666666667\\end{matrix}\\right]$"
      ],
      "text/plain": [
       "⎡5.86666666666666        -2.6                0                  0          0.6\n",
       "⎢                                                                             \n",
       "⎢      -2.6        4.93333333333333         -2.6        0.299999999999999  0.3\n",
       "⎢                                                                             \n",
       "⎢       0                -2.6         5.86666666666666        -2.6         0.6\n",
       "⎢                                                                             \n",
       "⎣       0          0.299999999999999        -2.6        2.46666666666667   -0.\n",
       "\n",
       "66666666666667 ⎤\n",
       "               ⎥\n",
       "33333333333333 ⎥\n",
       "               ⎥\n",
       "66666666666667 ⎥\n",
       "               ⎥\n",
       "791666666666667⎦"
      ]
     },
     "metadata": {},
     "output_type": "display_data"
    },
    {
     "data": {
      "text/latex": [
       "$\\displaystyle \\left\\{ d_{1} : 0.242245377064351, \\  d_{2} : 0.290194696965714, \\  d_{3} : 0.158326673431725, \\  d_{4} : -0.189355023581309\\right\\}$"
      ],
      "text/plain": [
       "{d_{1}: 0.242245377064351, d_{2}: 0.290194696965714, d_{3}: 0.158326673431725,\n",
       " d_{4}: -0.189355023581309}"
      ]
     },
     "execution_count": 93,
     "metadata": {},
     "output_type": "execute_result"
    }
   ],
   "source": [
    "M=globalA.col_insert(sizecol, F)\n",
    "M=M[1:,1:]\n",
    "display(M)\n",
    "d0,d1,d2,d3,d4=sym.symbols('d_{0} d_{1} d_{2} d_{3} d_{4}')\n",
    "D=[d1,d2,d3,d4]\n",
    "solve_linear_system(M,*D)\n"
   ]
  },
  {
   "cell_type": "code",
   "execution_count": 94,
   "metadata": {},
   "outputs": [],
   "source": [
    "def plotu(Nij,domain,D):\n",
    "    k = sym.symbols('x')\n",
    "    NL=2*(-0.5+x)*(-1+k)\n",
    "    NC=1-4*(-0.5+k)**2\n",
    "    NR=2*x*(-0.5+k)\n",
    "    Matrix([NL,NC,NR])\n",
    "    start=domain[0]\n",
    "    end=domain[1]\n",
    "    \n",
    "    return u(x)\n",
    "    "
   ]
  },
  {
   "cell_type": "code",
   "execution_count": 95,
   "metadata": {},
   "outputs": [
    {
     "ename": "NameError",
     "evalue": "name 't' is not defined",
     "output_type": "error",
     "traceback": [
      "\u001b[1;31m---------------------------------------------------------------------------\u001b[0m",
      "\u001b[1;31mNameError\u001b[0m                                 Traceback (most recent call last)",
      "\u001b[1;32m<ipython-input-95-7a76d8f84616>\u001b[0m in \u001b[0;36m<module>\u001b[1;34m\u001b[0m\n\u001b[0;32m      1\u001b[0m \u001b[0myvac\u001b[0m\u001b[1;33m=\u001b[0m\u001b[1;33m[\u001b[0m\u001b[1;33m]\u001b[0m\u001b[1;33m\u001b[0m\u001b[1;33m\u001b[0m\u001b[0m\n\u001b[0;32m      2\u001b[0m \u001b[0mxvac\u001b[0m\u001b[1;33m=\u001b[0m\u001b[1;33m[\u001b[0m\u001b[1;33m]\u001b[0m\u001b[1;33m\u001b[0m\u001b[1;33m\u001b[0m\u001b[0m\n\u001b[1;32m----> 3\u001b[1;33m \u001b[1;32mfor\u001b[0m \u001b[0mpos\u001b[0m \u001b[1;32min\u001b[0m \u001b[0mt\u001b[0m\u001b[1;33m:\u001b[0m\u001b[1;33m\u001b[0m\u001b[1;33m\u001b[0m\u001b[0m\n\u001b[0m\u001b[0;32m      4\u001b[0m     \u001b[0mxnew\u001b[0m\u001b[1;33m,\u001b[0m\u001b[0mynew\u001b[0m\u001b[1;33m=\u001b[0m\u001b[0mvacuum\u001b[0m\u001b[1;33m(\u001b[0m\u001b[0mpos\u001b[0m\u001b[1;33m)\u001b[0m\u001b[1;33m\u001b[0m\u001b[1;33m\u001b[0m\u001b[0m\n\u001b[0;32m      5\u001b[0m     \u001b[0myvac\u001b[0m\u001b[1;33m.\u001b[0m\u001b[0mappend\u001b[0m\u001b[1;33m(\u001b[0m\u001b[0mynew\u001b[0m\u001b[1;33m)\u001b[0m\u001b[1;33m\u001b[0m\u001b[1;33m\u001b[0m\u001b[0m\n",
      "\u001b[1;31mNameError\u001b[0m: name 't' is not defined"
     ]
    }
   ],
   "source": [
    "yvac=[]\n",
    "xvac=[]\n",
    "for pos in t:\n",
    "    xnew,ynew=vacuum(pos)\n",
    "    yvac.append(ynew)\n",
    "    xvac.append(xnew)\n",
    "plt.show()\n",
    "plt.plot(xpos,ypos)\n",
    "plt.plot(xvac,yvac)\n",
    "plt.xlabel('x')\n",
    "plt.ylabel('y')\n",
    "plt.title('x y position of projectile')\n",
    "plt.show()"
   ]
  },
  {
   "cell_type": "code",
   "execution_count": null,
   "metadata": {},
   "outputs": [],
   "source": [
    "-13/5"
   ]
  },
  {
   "cell_type": "markdown",
   "metadata": {},
   "source": [
    " x = sym.symbols('x')\n",
    "k=(x-0.5)/(1-0.5)\n",
    "display(k.subs(x,1))\n",
    "NL=2*(-0.5+k)*(-1+k)\n",
    "NC=1-4*(-0.5+k)**2\n",
    "NR=2*x*(-0.5+k)\n"
   ]
  },
  {
   "cell_type": "code",
   "execution_count": null,
   "metadata": {},
   "outputs": [],
   "source": [
    "integrate(NR,(x,0,1))-1"
   ]
  },
  {
   "cell_type": "code",
   "execution_count": null,
   "metadata": {},
   "outputs": [],
   "source": []
  }
 ],
 "metadata": {
  "kernelspec": {
   "display_name": "Python 3",
   "language": "python",
   "name": "python3"
  },
  "language_info": {
   "codemirror_mode": {
    "name": "ipython",
    "version": 3
   },
   "file_extension": ".py",
   "mimetype": "text/x-python",
   "name": "python",
   "nbconvert_exporter": "python",
   "pygments_lexer": "ipython3",
   "version": "3.7.7"
  }
 },
 "nbformat": 4,
 "nbformat_minor": 4
}
