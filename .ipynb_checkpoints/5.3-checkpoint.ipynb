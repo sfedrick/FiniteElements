{
 "cells": [
  {
   "cell_type": "code",
   "execution_count": 37,
   "metadata": {},
   "outputs": [],
   "source": [
    "import numpy as np\n",
    "import sympy as sym\n",
    "from sympy import *\n",
    "from IPython.display import display\n",
    "init_printing(use_latex='mathjax')\n",
    "from scipy.linalg import lu_factor\n",
    "import scipy\n",
    "from matplotlib import pyplot as plt\n",
    "from numpy import linalg as LA"
   ]
  },
  {
   "cell_type": "markdown",
   "metadata": {},
   "source": [
    "Part 1 find the eigne values of the Matrix A"
   ]
  },
  {
   "cell_type": "code",
   "execution_count": 15,
   "metadata": {},
   "outputs": [
    {
     "data": {
      "text/latex": [
       "$\\displaystyle \\left[\\begin{matrix}0.120614758428183\\\\3.53208888623795\\\\2.34729635533386\\\\1.0\\end{matrix}\\right]$"
      ],
      "text/plain": [
       "⎡0.120614758428183⎤\n",
       "⎢                 ⎥\n",
       "⎢3.53208888623795 ⎥\n",
       "⎢                 ⎥\n",
       "⎢2.34729635533386 ⎥\n",
       "⎢                 ⎥\n",
       "⎣       1.0       ⎦"
      ]
     },
     "metadata": {},
     "output_type": "display_data"
    },
    {
     "data": {
      "text/latex": [
       "$\\displaystyle \\left[\\begin{matrix}-0.656538502008139 & 0.228013428883779 & 0.42852507312436 & -0.577350269189626\\\\-0.577350269189626 & -0.577350269189626 & -0.577350269189626 & 1.87966043953874 \\cdot 10^{-17}\\\\-0.428525073124359 & 0.656538502008139 & -0.228013428883779 & 0.577350269189626\\\\-0.228013428883779 & -0.42852507312436 & 0.656538502008138 & 0.577350269189626\\end{matrix}\\right]$"
      ],
      "text/plain": [
       "⎡-0.656538502008139  0.228013428883779    0.42852507312436    -0.5773502691896\n",
       "⎢                                                                             \n",
       "⎢-0.577350269189626  -0.577350269189626  -0.577350269189626  1.87966043953874e\n",
       "⎢                                                                             \n",
       "⎢-0.428525073124359  0.656538502008139   -0.228013428883779   0.57735026918962\n",
       "⎢                                                                             \n",
       "⎣-0.228013428883779  -0.42852507312436   0.656538502008138    0.57735026918962\n",
       "\n",
       "26 ⎤\n",
       "   ⎥\n",
       "-17⎥\n",
       "   ⎥\n",
       "6  ⎥\n",
       "   ⎥\n",
       "6  ⎦"
      ]
     },
     "metadata": {},
     "output_type": "display_data"
    }
   ],
   "source": [
    "row1=[1,-1,0,0]\n",
    "row2=[-1,2,-1,0]\n",
    "row3=[0,-1,2,-1]\n",
    "row4=[0,0,-1,2]\n",
    "\n",
    "A=np.array([row1,row2,row3,row4])\n",
    "ev,v=LA.eig(A)\n",
    "display(Matrix(ev))\n",
    "display(Matrix(v))"
   ]
  },
  {
   "cell_type": "markdown",
   "metadata": {},
   "source": [
    "Part 2"
   ]
  },
  {
   "cell_type": "code",
   "execution_count": 60,
   "metadata": {},
   "outputs": [],
   "source": [
    "def conjugate_gradient(A, b):\n",
    "    if (is_pos_def(A) == False) | (A != A.T).any():\n",
    "        raise ValueError('Matrix A needs to be symmetric positive definite (SPD)')\n",
    "    r = b \n",
    "    k = 0\n",
    "    x = np.zeros(A.shape[-1])\n",
    "    exact=np.array([4,3,2,1])\n",
    "    i=0\n",
    "    \n",
    "    while LA.norm(r) > 1e-10 :\n",
    "        if k == 0:\n",
    "            p = r\n",
    "        else: \n",
    "            gamma = - (p @ A @ r)/(p @ A @ p)\n",
    "            p = r + gamma * p\n",
    "        alpha = (p @ r) / (p @ A @ p)\n",
    "        x = x + alpha * p\n",
    "        r = r - alpha * (A @ p)\n",
    "        k =+ 1\n",
    "        display(((x-exact).T) @ A @(x-exact))\n",
    "    return x"
   ]
  },
  {
   "cell_type": "code",
   "execution_count": 61,
   "metadata": {},
   "outputs": [
    {
     "data": {
      "text/latex": [
       "$\\displaystyle 4.0$"
      ],
      "text/plain": [
       "4.0"
      ]
     },
     "metadata": {},
     "output_type": "display_data"
    },
    {
     "data": {
      "text/latex": [
       "$\\displaystyle 3.0$"
      ],
      "text/plain": [
       "3.0"
      ]
     },
     "metadata": {},
     "output_type": "display_data"
    },
    {
     "data": {
      "text/latex": [
       "$\\displaystyle 2.0$"
      ],
      "text/plain": [
       "2.0"
      ]
     },
     "metadata": {},
     "output_type": "display_data"
    },
    {
     "data": {
      "text/latex": [
       "$\\displaystyle 1.0$"
      ],
      "text/plain": [
       "1.0"
      ]
     },
     "metadata": {},
     "output_type": "display_data"
    },
    {
     "data": {
      "text/plain": [
       "array([4., 3., 2., 1.])"
      ]
     },
     "execution_count": 61,
     "metadata": {},
     "output_type": "execute_result"
    }
   ],
   "source": [
    "row1=[1,-1,0,0]\n",
    "row2=[-1,2,-1,0]\n",
    "row3=[0,-1,2,-1]\n",
    "row4=[0,0,-1,2]\n",
    "\n",
    "A=np.array([row1,row2,row3,row4])\n",
    "b=np.array([1,0,0,0])\n",
    "\n",
    "\n",
    "conjugate_gradient(A, b)\n"
   ]
  },
  {
   "cell_type": "markdown",
   "metadata": {},
   "source": [
    "Question 4 find y equations"
   ]
  },
  {
   "cell_type": "code",
   "execution_count": 30,
   "metadata": {},
   "outputs": [
    {
     "name": "stdout",
     "output_type": "stream",
     "text": [
      "Eigen Values\n"
     ]
    },
    {
     "data": {
      "text/latex": [
       "$\\displaystyle \\left[\\begin{matrix}0.120614758428183\\\\3.53208888623795\\\\2.34729635533386\\\\1.0\\end{matrix}\\right]$"
      ],
      "text/plain": [
       "⎡0.120614758428183⎤\n",
       "⎢                 ⎥\n",
       "⎢3.53208888623795 ⎥\n",
       "⎢                 ⎥\n",
       "⎢2.34729635533386 ⎥\n",
       "⎢                 ⎥\n",
       "⎣       1.0       ⎦"
      ]
     },
     "metadata": {},
     "output_type": "display_data"
    },
    {
     "name": "stdout",
     "output_type": "stream",
     "text": [
      "Eigen Vectors \n"
     ]
    },
    {
     "data": {
      "text/latex": [
       "$\\displaystyle \\left[\\begin{matrix}-0.656538502008139 & 0.228013428883779 & 0.42852507312436 & -0.577350269189626\\\\-0.577350269189626 & -0.577350269189626 & -0.577350269189626 & 1.87966043953874 \\cdot 10^{-17}\\\\-0.428525073124359 & 0.656538502008139 & -0.228013428883779 & 0.577350269189626\\\\-0.228013428883779 & -0.42852507312436 & 0.656538502008138 & 0.577350269189626\\end{matrix}\\right]$"
      ],
      "text/plain": [
       "⎡-0.656538502008139  0.228013428883779    0.42852507312436    -0.5773502691896\n",
       "⎢                                                                             \n",
       "⎢-0.577350269189626  -0.577350269189626  -0.577350269189626  1.87966043953874e\n",
       "⎢                                                                             \n",
       "⎢-0.428525073124359  0.656538502008139   -0.228013428883779   0.57735026918962\n",
       "⎢                                                                             \n",
       "⎣-0.228013428883779  -0.42852507312436   0.656538502008138    0.57735026918962\n",
       "\n",
       "26 ⎤\n",
       "   ⎥\n",
       "-17⎥\n",
       "   ⎥\n",
       "6  ⎥\n",
       "   ⎥\n",
       "6  ⎦"
      ]
     },
     "metadata": {},
     "output_type": "display_data"
    },
    {
     "data": {
      "text/plain": [
       "'right hand side of delta y'"
      ]
     },
     "metadata": {},
     "output_type": "display_data"
    },
    {
     "data": {
      "text/latex": [
       "$\\displaystyle \\left[\\begin{matrix}-0.656538502008139\\\\0.228013428883779\\\\0.42852507312436\\\\-0.577350269189626\\end{matrix}\\right]$"
      ],
      "text/plain": [
       "⎡-0.656538502008139⎤\n",
       "⎢                  ⎥\n",
       "⎢0.228013428883779 ⎥\n",
       "⎢                  ⎥\n",
       "⎢ 0.42852507312436 ⎥\n",
       "⎢                  ⎥\n",
       "⎣-0.577350269189626⎦"
      ]
     },
     "metadata": {},
     "output_type": "display_data"
    }
   ],
   "source": [
    "ev,v=LA.eig(A)\n",
    "b=np.array([1,0,0,0])\n",
    "pprint(\"Eigen Values\")\n",
    "display(Matrix(ev))\n",
    "pprint(\"Eigen Vectors \")\n",
    "display(Matrix(v))\n",
    "display(\"right hand side of delta y\")\n",
    "display(Matrix(v.T@b))"
   ]
  },
  {
   "cell_type": "code",
   "execution_count": 17,
   "metadata": {},
   "outputs": [
    {
     "data": {
      "text/latex": [
       "$\\displaystyle \\left[\\begin{matrix}1.0 & 2.91433543964104 \\cdot 10^{-16} & 1.38777878078145 \\cdot 10^{-16} & 3.88578058618805 \\cdot 10^{-16}\\\\2.91433543964104 \\cdot 10^{-16} & 1.0 & -1.11022302462516 \\cdot 10^{-16} & -5.55111512312578 \\cdot 10^{-17}\\\\1.38777878078145 \\cdot 10^{-16} & -1.11022302462516 \\cdot 10^{-16} & 1.0 & -2.77555756156289 \\cdot 10^{-16}\\\\3.88578058618805 \\cdot 10^{-16} & -5.55111512312578 \\cdot 10^{-17} & -2.77555756156289 \\cdot 10^{-16} & 1.0\\end{matrix}\\right]$"
      ],
      "text/plain": [
       "⎡        1.0           2.91433543964104e-16   1.38777878078145e-16   3.8857805\n",
       "⎢                                                                             \n",
       "⎢2.91433543964104e-16           1.0           -1.11022302462516e-16  -5.551115\n",
       "⎢                                                                             \n",
       "⎢1.38777878078145e-16  -1.11022302462516e-16           1.0           -2.775557\n",
       "⎢                                                                             \n",
       "⎣3.88578058618805e-16  -5.55111512312578e-17  -2.77555756156289e-16           \n",
       "\n",
       "8618805e-16 ⎤\n",
       "            ⎥\n",
       "12312578e-17⎥\n",
       "            ⎥\n",
       "56156289e-16⎥\n",
       "            ⎥\n",
       "1.0         ⎦"
      ]
     },
     "metadata": {},
     "output_type": "display_data"
    }
   ],
   "source": [
    "display(Matrix(v.T@))"
   ]
  },
  {
   "cell_type": "code",
   "execution_count": 49,
   "metadata": {},
   "outputs": [],
   "source": [
    "x=1"
   ]
  },
  {
   "cell_type": "code",
   "execution_count": 50,
   "metadata": {},
   "outputs": [
    {
     "data": {
      "text/plain": [
       "'1'"
      ]
     },
     "execution_count": 50,
     "metadata": {},
     "output_type": "execute_result"
    }
   ],
   "source": [
    "str(x)"
   ]
  },
  {
   "cell_type": "code",
   "execution_count": null,
   "metadata": {},
   "outputs": [],
   "source": []
  }
 ],
 "metadata": {
  "kernelspec": {
   "display_name": "Python 3",
   "language": "python",
   "name": "python3"
  },
  "language_info": {
   "codemirror_mode": {
    "name": "ipython",
    "version": 3
   },
   "file_extension": ".py",
   "mimetype": "text/x-python",
   "name": "python",
   "nbconvert_exporter": "python",
   "pygments_lexer": "ipython3",
   "version": "3.7.7"
  }
 },
 "nbformat": 4,
 "nbformat_minor": 4
}
